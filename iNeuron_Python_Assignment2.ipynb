{
 "cells": [
  {
   "cell_type": "markdown",
   "metadata": {},
   "source": [
    "##1.1\n",
    "Write a Python Program to implement your own myreduce() function which works exactly like\n",
    "Python's built-in function reduce()"
   ]
  },
  {
   "cell_type": "code",
   "execution_count": 27,
   "metadata": {},
   "outputs": [],
   "source": [
    "def myreduce(function, mylist):\n",
    "    result = mylist[0]\n",
    "    for item in mylist[1:]:\n",
    "        result = function(result, item)\n",
    "    \n",
    "    return result"
   ]
  },
  {
   "cell_type": "markdown",
   "metadata": {},
   "source": [
    "#Testing the myreduce function"
   ]
  },
  {
   "cell_type": "code",
   "execution_count": 28,
   "metadata": {},
   "outputs": [
    {
     "output_type": "stream",
     "name": "stdout",
     "text": "multiplication of 1 to 5 Using myreduce function : 120\nmultiplication of 1 to 5 Using original reduce function : 120\n"
    }
   ],
   "source": [
    "def multi(a,b):\n",
    "    return a * b\n",
    "import functools    \n",
    "number = range(1,6)\n",
    "print(\"multiplication of 1 to 5 Using myreduce function : \" + str(myreduce(multi, number)))\n",
    "print(\"multiplication of 1 to 5 Using original reduce function : \" , end = \"\")\n",
    "print(functools.reduce(multi,number))"
   ]
  },
  {
   "cell_type": "markdown",
   "metadata": {},
   "source": [
    "##1.2 Write a Python program to implement your own myfilter() function which works exactly like\n",
    "Python's built-in function filter()"
   ]
  },
  {
   "cell_type": "code",
   "execution_count": 19,
   "metadata": {},
   "outputs": [],
   "source": [
    "def myfilter(function, mylist):\n",
    "    result = []\n",
    "    for item in mylist:\n",
    "        if function(item):\n",
    "            result.append(item)\n",
    "    return result"
   ]
  },
  {
   "cell_type": "markdown",
   "metadata": {},
   "source": [
    "Testing of myfilter function"
   ]
  },
  {
   "cell_type": "code",
   "execution_count": 26,
   "metadata": {},
   "outputs": [
    {
     "output_type": "stream",
     "name": "stdout",
     "text": "filtring the student name starting with letter 'p' using myfilter function: ['pawan', 'pramod']\nfiltring the student name starting with letter 'p' using original filter function : ['pawan', 'pramod']\n"
    }
   ],
   "source": [
    "student = [\"pawan\", \"vinod\", \"mahesh\", \"amit\", \"pramod\"]\n",
    "print(\"filtring the student name starting with letter 'p' using myfilter function: \", end= \"\")\n",
    "print (list(myfilter(lambda word: word[0] == 'p',student)))\n",
    "\n",
    "\n",
    "print(\"filtring the student name starting with letter 'p' using original filter function : \", end= \"\")\n",
    "print (list(filter(lambda word: word[0] == 'p',student)))"
   ]
  },
  {
   "cell_type": "markdown",
   "metadata": {},
   "source": [
    "2.Implement List comprehensions to produce the following lists.\n",
    "Write List comprehensions to produce the following Lists"
   ]
  },
  {
   "cell_type": "code",
   "execution_count": 32,
   "metadata": {},
   "outputs": [
    {
     "output_type": "stream",
     "name": "stdout",
     "text": "['A', 'C', 'A', 'D', 'G', 'I', 'L', 'D']\n"
    }
   ],
   "source": [
    "#list comprehension list 1\n",
    "list1 = [letter for letter in 'ACADGILD' ]\n",
    "print(list1)"
   ]
  },
  {
   "cell_type": "code",
   "execution_count": 34,
   "metadata": {},
   "outputs": [
    {
     "output_type": "stream",
     "name": "stdout",
     "text": "['x', 'xx', 'xxx', 'xxxx', 'y', 'yy', 'yyy', 'yyyy', 'z', 'zz', 'zzz', 'zzzz']\n"
    }
   ],
   "source": [
    "#list comprehension List 2\n",
    "list2 = [item*num for item in ['x','y','z'] for num in range(1,5)]\n",
    "print(list2)"
   ]
  },
  {
   "cell_type": "code",
   "execution_count": 35,
   "metadata": {},
   "outputs": [
    {
     "output_type": "stream",
     "name": "stdout",
     "text": "['x', 'y', 'z', 'xx', 'yy', 'zz', 'xxx', 'yyy', 'zzz', 'xxxx', 'yyyy', 'zzzz']\n"
    }
   ],
   "source": [
    "#list compreshension list 3\n",
    "list3 = [item*num for num in range(1,5) for item in ['x','y','z']]\n",
    "print(list3)"
   ]
  },
  {
   "cell_type": "code",
   "execution_count": 45,
   "metadata": {},
   "outputs": [
    {
     "output_type": "stream",
     "name": "stdout",
     "text": "[[2], [3], [4], [3], [4], [5], [4], [5], [6]]\n"
    }
   ],
   "source": [
    "#list compreshension list 4\n",
    "list4 = [[item+num] for item in [2,3,4] for num in range(0,3)]\n",
    "print(list4)"
   ]
  },
  {
   "cell_type": "code",
   "execution_count": 47,
   "metadata": {},
   "outputs": [
    {
     "output_type": "stream",
     "name": "stdout",
     "text": "[[2, 3, 4, 5], [3, 4, 5, 6], [4, 5, 6, 7], [5, 6, 7, 8]]\n"
    }
   ],
   "source": [
    "#list comprehension in list 5\n",
    "list5 =  [[item+num for item in [2,3,4,5]] for num in range(0,4)]\n",
    "print(list5)"
   ]
  },
  {
   "cell_type": "code",
   "execution_count": 50,
   "metadata": {},
   "outputs": [
    {
     "output_type": "stream",
     "name": "stdout",
     "text": "[(1, 1), (2, 1), (3, 1), (1, 2), (2, 2), (3, 2), (1, 3), (2, 3), (3, 3)]\n"
    }
   ],
   "source": [
    "#list comprehension in list 6\n",
    "list6 = [(x,y) for y in [1,2,3] for x in [1,2,3]]\n",
    "print(list6)"
   ]
  },
  {
   "cell_type": "markdown",
   "metadata": {},
   "source": [
    "#3.Implement a function longestWord() that takes a list of words and returns the longest one."
   ]
  },
  {
   "cell_type": "code",
   "execution_count": 61,
   "metadata": {},
   "outputs": [],
   "source": [
    "def longestWord(text):\n",
    "    longest_word = max(text.split(), key=len)\n",
    "    return longest_word"
   ]
  },
  {
   "cell_type": "code",
   "execution_count": 62,
   "metadata": {},
   "outputs": [
    {
     "output_type": "execute_result",
     "data": {
      "text/plain": "'Scientist'"
     },
     "metadata": {},
     "execution_count": 62
    }
   ],
   "source": [
    "#testing of longestword\n",
    "longestWord(\"I want to be a Data Scientist\")"
   ]
  },
  {
   "cell_type": "markdown",
   "metadata": {},
   "source": [
    "##Task 2:\n",
    "1.1\n",
    "Write a Python Program(with class concepts) to find the area of the triangle using the below\n",
    "formula.\n",
    "area = (s*(s-a)*(s-b)*(s-c)) ** 0.5\n",
    "Function to take the length of the sides of triangle from user should be defined in the parent\n",
    "class and function to calculate the area should be defined in subclass."
   ]
  },
  {
   "cell_type": "code",
   "execution_count": 76,
   "metadata": {},
   "outputs": [
    {
     "output_type": "stream",
     "name": "stdout",
     "text": "Sides of Triangle is:  5 5 5\nArea of Triangle is:  10.825317547305483\n"
    }
   ],
   "source": [
    "import sys\n",
    "import math\n",
    " \n",
    "a = int(input('Please enter the first side of a triangle: '))\n",
    "b = int(input('Please enter the second side of a triangle: '))\n",
    "c = int(input('Please enter the third side of a triangle: '))\n",
    "class triangle():\n",
    "   def __init__(self,a,b,c):\n",
    "       self.a = a\n",
    "       self.b = b\n",
    "       self.c = c\n",
    "   def area(self):\n",
    "       s=(a + b + c)/2\n",
    "       area=math.sqrt(s*(s-a)*(s-b)*(s-c))\n",
    "       return area\n",
    "t = triangle(a, b, c)\n",
    "print(\"Sides of Triangle is: \", a,b,c)\n",
    "print(\"Area of Triangle is: \", t.area())"
   ]
  },
  {
   "cell_type": "markdown",
   "metadata": {},
   "source": [
    "#1.2\n",
    "Write a function filter_long_words() that takes a list of words and an integer n and returns the list\n",
    "of words that are longer than n."
   ]
  },
  {
   "cell_type": "code",
   "execution_count": 15,
   "metadata": {},
   "outputs": [],
   "source": [
    "def filter_long_words(str,num):\n",
    "    result = (word for word in str if len(word)>num)\n",
    "    return result"
   ]
  },
  {
   "cell_type": "code",
   "execution_count": 31,
   "metadata": {},
   "outputs": [
    {
     "output_type": "stream",
     "name": "stdout",
     "text": "In the ['I', 'love', 'data', 'so', 'much'] longer than 2(n) words are love, data, much.\n"
    }
   ],
   "source": [
    "#testing function filter_long_word\n",
    "\n",
    "text = input(\"Enter a word seperated by spaces: \").split()\n",
    "length = int(input(\"Enter a length of words in numbers to keep: \"))\n",
    "print(\"In the {} longer than {}(n) words are {}.\".format(text,length,', '.join(filter_long_words(text, length))))"
   ]
  },
  {
   "cell_type": "markdown",
   "metadata": {},
   "source": [
    "##2.1\n",
    "Write a Python program using function concept that maps list of words into a list of integers\n",
    "representing the lengths of the corresponding words​.\n",
    "Hint: ​If a list [ ab,cde,erty] is passed on to the python function output should come as [2,3,4]\n",
    "Here 2,3 and 4 are the lengths of the words in the list."
   ]
  },
  {
   "cell_type": "code",
   "execution_count": 40,
   "metadata": {},
   "outputs": [
    {
     "output_type": "stream",
     "name": "stdout",
     "text": "[5, 6, 5, 7, 3, 7]\n"
    }
   ],
   "source": [
    "word_list = [\"Pawan\", \"Ashish\", \"Manoj\", \"Nishant\", \"Ram\", \"Kamlesh\"]\n",
    "lenght_word = [len(word_list[i]) for i in range(len(word_list))]\n",
    "print(lenght_word)"
   ]
  },
  {
   "cell_type": "markdown",
   "metadata": {},
   "source": [
    "##2.2\n",
    "Write a Python function which takes a character (i.e. a string of length 1) and returns True if it is\n",
    "a vowel, False otherwise."
   ]
  },
  {
   "cell_type": "code",
   "execution_count": 56,
   "metadata": {},
   "outputs": [],
   "source": [
    "def vowel(str):\n",
    "    if str[0].lower() in 'aeiou':\n",
    "        return True\n",
    "    else:\n",
    "        return False"
   ]
  },
  {
   "cell_type": "code",
   "execution_count": 75,
   "metadata": {},
   "outputs": [
    {
     "output_type": "stream",
     "name": "stdout",
     "text": "Entered character is Y and it is vowel: False \n"
    }
   ],
   "source": [
    "word = input('Enter character for checking vowel (only one char is allowed)')[0]\n",
    "print(\"Entered character is {} and it is vowel: {} \".format(word, vowel(word)))"
   ]
  },
  {
   "cell_type": "code",
   "execution_count": null,
   "metadata": {},
   "outputs": [],
   "source": []
  }
 ],
 "metadata": {
  "language_info": {
   "codemirror_mode": {
    "name": "ipython",
    "version": 3
   },
   "file_extension": ".py",
   "mimetype": "text/x-python",
   "name": "python",
   "nbconvert_exporter": "python",
   "pygments_lexer": "ipython3",
   "version": "3.7.1-final"
  },
  "orig_nbformat": 2,
  "kernelspec": {
   "name": "python3",
   "display_name": "Python 3"
  }
 },
 "nbformat": 4,
 "nbformat_minor": 2
}